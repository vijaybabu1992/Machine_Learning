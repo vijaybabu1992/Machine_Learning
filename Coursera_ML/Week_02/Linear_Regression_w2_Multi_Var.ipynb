{
 "cells": [
  {
   "cell_type": "markdown",
   "id": "95a80d25-de57-41a9-85e2-ffc4d514df49",
   "metadata": {},
   "source": [
    "# Multiple Variable Linear Regression"
   ]
  },
  {
   "cell_type": "code",
   "execution_count": 3,
   "id": "d8ac09ee-0dfa-468e-ae8a-ec5625dc2c9c",
   "metadata": {},
   "outputs": [],
   "source": [
    "import copy, math\n",
    "import numpy as np\n",
    "import matplotlib.pyplot as plt\n",
    "plt.style.use('./deeplearning.mplstyle')\n",
    "np.set_printoptions(precision=2)  # reduced display precision on numpy arrays"
   ]
  },
  {
   "cell_type": "code",
   "execution_count": 4,
   "id": "0df447d5-1443-47f5-87ca-a07fffa0a8ca",
   "metadata": {},
   "outputs": [],
   "source": [
    "X_train = np.array([[2104,5,1,45],[1416,3,2,40],[852,2,1,35]])\n",
    "y_train = np.array([460,232,178])"
   ]
  },
  {
   "cell_type": "code",
   "execution_count": 5,
   "id": "641dbba1-84bb-476d-8c95-76a552ac8a65",
   "metadata": {},
   "outputs": [
    {
     "name": "stdout",
     "output_type": "stream",
     "text": [
      "X_shape:(3, 4), X_type:<class 'numpy.ndarray'>\n",
      "[[2104    5    1   45]\n",
      " [1416    3    2   40]\n",
      " [ 852    2    1   35]]\n",
      "y_shape:(3,), y_type:<class 'numpy.ndarray'>\n",
      "[460 232 178]\n"
     ]
    }
   ],
   "source": [
    "print(f\"X_shape:{X_train.shape}, X_type:{type(X_train)}\")\n",
    "print(X_train)\n",
    "print(f\"y_shape:{y_train.shape}, y_type:{type(y_train)}\")\n",
    "print(y_train)\n",
    "\n"
   ]
  },
  {
   "cell_type": "code",
   "execution_count": 6,
   "id": "eb17ab55-20bf-4aa1-903e-d3a59d358b34",
   "metadata": {},
   "outputs": [
    {
     "name": "stdout",
     "output_type": "stream",
     "text": [
      "w_init shape: (4,), b_init type: <class 'float'>\n"
     ]
    }
   ],
   "source": [
    "b_init = 785.1811367994083\n",
    "w_init = np.array([ 0.39133535, 18.75376741, -53.36032453, -26.42131618])\n",
    "print(f\"w_init shape: {w_init.shape}, b_init type: {type(b_init)}\")"
   ]
  },
  {
   "cell_type": "markdown",
   "id": "20ad01c2-de19-4c70-8fae-54a6dbbe10b2",
   "metadata": {},
   "source": [
    "### Single Prediction element by element"
   ]
  },
  {
   "cell_type": "code",
   "execution_count": 7,
   "id": "dca7a8b4-a44a-446e-a382-ca43ec34f1d1",
   "metadata": {},
   "outputs": [],
   "source": [
    "def predict_single_loop(x,w,b):\n",
    "    n=len(x)\n",
    "    p=0\n",
    "    for i in range(n):\n",
    "        p_i = x[i]*w[i]\n",
    "        p += p_i\n",
    "    p+=b\n",
    "    return p\n"
   ]
  },
  {
   "cell_type": "code",
   "execution_count": 9,
   "id": "c98c6925-2c3b-457a-80e0-3b407b6c382d",
   "metadata": {},
   "outputs": [
    {
     "name": "stdout",
     "output_type": "stream",
     "text": [
      "x_vec shape (4,), x_vec value:[2104    5    1   45]\n",
      "f_wb shape:(), prediction:459.9999976194083\n"
     ]
    }
   ],
   "source": [
    "x_vec = X_train[0,:]\n",
    "print(f\"x_vec shape {x_vec.shape}, x_vec value:{x_vec}\")\n",
    "\n",
    "f_wb = predict_single_loop(x_vec,w_init,b_init)\n",
    "print(f\"f_wb shape:{f_wb.shape}, prediction:{f_wb}\")"
   ]
  },
  {
   "cell_type": "markdown",
   "id": "5b6c7934-1ae4-4955-a4c8-0a0a7a4645da",
   "metadata": {},
   "source": [
    "### Compute Cost With Multiple Variables"
   ]
  },
  {
   "cell_type": "code",
   "execution_count": 10,
   "id": "d0019935-1367-4d41-a7fa-0df1ec26eb29",
   "metadata": {},
   "outputs": [],
   "source": [
    "def compute_cost(X,y,w,b):\n",
    "    m=len(X)\n",
    "    cost = 0.0\n",
    "    for i in range(m):\n",
    "        f_wb_i = np.dot(X[i],w)+b\n",
    "        cost = cost + (f_wb_i - y[i])**2\n",
    "    cost = cost/(2*m)\n",
    "    return cost"
   ]
  },
  {
   "cell_type": "code",
   "execution_count": 12,
   "id": "2468567f-2697-4daf-a780-bff6dc5c51ef",
   "metadata": {},
   "outputs": [
    {
     "name": "stdout",
     "output_type": "stream",
     "text": [
      "Cost at Optimal w:1.5578904330213735e-12\n"
     ]
    }
   ],
   "source": [
    "cost = compute_cost(X_train,y_train,w_init,b_init)\n",
    "print(f\"Cost at Optimal w:{cost}\")"
   ]
  },
  {
   "cell_type": "markdown",
   "id": "f7f992ac-2e60-428d-b30f-f352d8a77b60",
   "metadata": {},
   "source": [
    "### Compute Gradient with Multipl Variables"
   ]
  },
  {
   "cell_type": "code",
   "execution_count": 13,
   "id": "fe411846-d84d-4d73-a4ae-be7c4f5a1ea9",
   "metadata": {},
   "outputs": [],
   "source": [
    "def compute_gradient(X,y,w,b):\n",
    "    m,n=X.shape\n",
    "    dj_dw = np.zeros((n,))\n",
    "    dj_db = 0.\n",
    "\n",
    "    for i in range(m):\n",
    "        err = (np.dot(X[i],w)+b)-y[i]\n",
    "        for j in range(n):\n",
    "            dj_dw[j] = dj_dw[j] + err * X[i,j]\n",
    "        dj_db = dj_db + err\n",
    "\n",
    "    dj_dw = dj_dw/m\n",
    "    dj_db = dj_db/m\n",
    "    return dj_db,dj_dw\n",
    "    "
   ]
  },
  {
   "cell_type": "code",
   "execution_count": 15,
   "id": "2564eb57-424a-426c-bce2-4da6ebf91695",
   "metadata": {},
   "outputs": [
    {
     "name": "stdout",
     "output_type": "stream",
     "text": [
      "dj_db at initial w,b: -1.6739251122999121e-06\n",
      "dj_dw at initial w,b: [-2.73e-03 -6.27e-06 -2.22e-06 -6.92e-05]\n"
     ]
    }
   ],
   "source": [
    "tmp_dj_db,tmp_dj_dw = compute_gradient(X_train,y_train,w_init,b_init)\n",
    "print(f\"dj_db at initial w,b: {tmp_dj_db}\")\n",
    "print(f\"dj_dw at initial w,b: {tmp_dj_dw}\")"
   ]
  },
  {
   "cell_type": "markdown",
   "id": "d6367c81-1981-4b30-82dd-e013339727de",
   "metadata": {},
   "source": [
    "### Gradient Descent With Multiple Variables"
   ]
  },
  {
   "cell_type": "code",
   "execution_count": 16,
   "id": "f5aaf023-fcaa-4b67-af6b-93cd1b2f720b",
   "metadata": {},
   "outputs": [],
   "source": [
    "def gradient_descent(X,y, w_in,b_in,cost_funtion,gradient_function, alpha, num_iters):\n",
    "    J_history = []\n",
    "    w = copy.deepcopy(w_in)\n",
    "    b = b_in\n",
    "\n",
    "    for i in range(num_iters):\n",
    "        dj_db,dj_dw = gradient_function(X,y,w,b)\n",
    "        w = w - alpha * dj_dw\n",
    "        b = b - alpha * dj_db\n",
    "\n",
    "    if i<100000:\n",
    "        J_history.append(cost_funtion(X,y,w,b))\n",
    "\n",
    "    if i% math.ceil(num_iters/100) == 0:\n",
    "        print(f\"Iteration {i:4d}: Cost {J_history[-1]:8.2f}\")\n",
    "    return w,b,J_history"
   ]
  },
  {
   "cell_type": "code",
   "execution_count": 19,
   "id": "d896305d-649c-4326-bd6c-97edcd4d597b",
   "metadata": {},
   "outputs": [
    {
     "name": "stdout",
     "output_type": "stream",
     "text": [
      "b,w found by gradient descent: -0.00, [ 0.2   0.   -0.01 -0.07]\n",
      "Prediction: 426.19, target value: 460\n",
      "Prediction: 286.17, target value: 232\n",
      "Prediction: 171.47, target value: 178\n"
     ]
    }
   ],
   "source": [
    "initial_w = np.zeros_like(w_init)\n",
    "initial_b = 0.\n",
    "\n",
    "iterations = 1000\n",
    "alpha = 5.0e-7\n",
    "\n",
    "w_final,b_final,J_hist = gradient_descent(X_train,y_train,initial_w,initial_b,\n",
    "                                         compute_cost,compute_gradient,\n",
    "                                         alpha,iterations)\n",
    "print(f\"b,w found by gradient descent: {b_final:0.2f}, {w_final}\")\n",
    "\n",
    "m,_ = X_train.shape\n",
    "\n",
    "for i in range(m):\n",
    "    print(f\"Prediction: {np.dot(X_train[i],w_final) + b_final:0.2f}, target value: {y_train[i]}\")"
   ]
  },
  {
   "cell_type": "code",
   "execution_count": 20,
   "id": "d131a6f2-351c-4ae5-a06c-ca42687ab78e",
   "metadata": {},
   "outputs": [
    {
     "data": {
      "image/png": "[encoded data removed]",
      "text/plain": [
       "<Figure size 1200x400 with 2 Axes>"
      ]
     },
     "metadata": {},
     "output_type": "display_data"
    }
   ],
   "source": [
    "# plot cost versus iteration  \n",
    "fig, (ax1, ax2) = plt.subplots(1, 2, constrained_layout=True, figsize=(12, 4))\n",
    "ax1.plot(J_hist)\n",
    "ax2.plot(100 + np.arange(len(J_hist[100:])), J_hist[100:])\n",
    "ax1.set_title(\"Cost vs. iteration\");  ax2.set_title(\"Cost vs. iteration (tail)\")\n",
    "ax1.set_ylabel('Cost')             ;  ax2.set_ylabel('Cost') \n",
    "ax1.set_xlabel('iteration step')   ;  ax2.set_xlabel('iteration step') \n",
    "plt.show()"
   ]
  },
  {
   "cell_type": "code",
   "execution_count": null,
   "id": "a4de0409-57aa-4859-9d98-be9eccd70707",
   "metadata": {},
   "outputs": [],
   "source": []
  }
 ],
 "metadata": {
  "kernelspec": {
   "display_name": "Python 3 (ipykernel)",
   "language": "python",
   "name": "python3"
  },
  "language_info": {
   "codemirror_mode": {
    "name": "ipython",
    "version": 3
   },
   "file_extension": ".py",
   "mimetype": "text/x-python",
   "name": "python",
   "nbconvert_exporter": "python",
   "pygments_lexer": "ipython3",
   "version": "3.12.7"
  }
 },
 "nbformat": 4,
 "nbformat_minor": 5
}
