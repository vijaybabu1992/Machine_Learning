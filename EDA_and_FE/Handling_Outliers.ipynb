{
 "cells": [
  {
   "cell_type": "markdown",
   "id": "847592e8-8820-4b47-832d-830b182f31c9",
   "metadata": {},
   "source": [
    "## 5 number summary and Box Plot"
   ]
  },
  {
   "cell_type": "markdown",
   "id": "d9d3d309-83fa-4f2f-ba1e-861b5974be0f",
   "metadata": {},
   "source": [
    "### Min, Max, Median, Q1, Q3, IQR"
   ]
  },
  {
   "cell_type": "code",
   "execution_count": 1,
   "id": "7f565d22-d661-4b26-ad00-2ac1999b160f",
   "metadata": {},
   "outputs": [],
   "source": [
    "import numpy as np"
   ]
  },
  {
   "cell_type": "code",
   "execution_count": 3,
   "id": "a591c630-8d00-4960-b9ec-3731a4f5a42d",
   "metadata": {},
   "outputs": [],
   "source": [
    "lst_marks = [45,32,56,75,89,54,32,89,90,87,67,54,45]\n",
    "minimum,Q1,median,Q3,maximum = np.quantile(lst_marks,[0,.25,.50,.75,1])"
   ]
  },
  {
   "cell_type": "code",
   "execution_count": 8,
   "id": "9cc31835-40f6-4eeb-b700-54e082531193",
   "metadata": {},
   "outputs": [
    {
     "data": {
      "text/plain": [
       "(32.0, 45.0, 87.0, 56.0, 90.0)"
      ]
     },
     "execution_count": 8,
     "metadata": {},
     "output_type": "execute_result"
    }
   ],
   "source": [
    "minimum,Q1,Q3,median,maximum"
   ]
  },
  {
   "cell_type": "code",
   "execution_count": 9,
   "id": "9321d9fe-87f3-4e3b-8c82-9990b1eb6d97",
   "metadata": {},
   "outputs": [
    {
     "name": "stdout",
     "output_type": "stream",
     "text": [
      "42.0\n"
     ]
    }
   ],
   "source": [
    "IQR=Q3-Q1\n",
    "print(IQR)"
   ]
  },
  {
   "cell_type": "code",
   "execution_count": 10,
   "id": "d383bc08-6091-4095-b44b-39f0ffec3386",
   "metadata": {},
   "outputs": [],
   "source": [
    "lower_fence = Q1-1.5*(IQR)\n",
    "higher_fence=Q3+1.5*(IQR)"
   ]
  },
  {
   "cell_type": "code",
   "execution_count": 11,
   "id": "aec6e685-bfa5-484a-a8fa-821ed1c95af7",
   "metadata": {},
   "outputs": [
    {
     "data": {
      "text/plain": [
       "-18.0"
      ]
     },
     "execution_count": 11,
     "metadata": {},
     "output_type": "execute_result"
    }
   ],
   "source": [
    "lower_fence"
   ]
  },
  {
   "cell_type": "code",
   "execution_count": 12,
   "id": "d0269798-b95d-4fff-ab4e-e6ab0848a0e5",
   "metadata": {},
   "outputs": [
    {
     "data": {
      "text/plain": [
       "150.0"
      ]
     },
     "execution_count": 12,
     "metadata": {},
     "output_type": "execute_result"
    }
   ],
   "source": [
    "higher_fence"
   ]
  },
  {
   "cell_type": "code",
   "execution_count": 13,
   "id": "42038931-33e3-4799-8fc6-8a2057dd2000",
   "metadata": {},
   "outputs": [],
   "source": [
    "lst_marks = [45,32,56,75,89,54,32,89,90,87,67,54,45]\n"
   ]
  },
  {
   "cell_type": "code",
   "execution_count": 14,
   "id": "4e0d740b-a33f-4ac7-b7b2-6420e01fae21",
   "metadata": {},
   "outputs": [],
   "source": [
    "import seaborn as sns"
   ]
  },
  {
   "cell_type": "code",
   "execution_count": 17,
   "id": "9104ce7e-4684-4ecb-a21b-f76e9ab1ecb1",
   "metadata": {},
   "outputs": [
    {
     "data": {
      "text/plain": [
       "<Axes: >"
      ]
     },
     "execution_count": 17,
     "metadata": {},
     "output_type": "execute_result"
    },
    {
     "data": {
      "image/png": "[encoded data removed]",
      "text/plain": [
       "<Figure size 640x480 with 1 Axes>"
      ]
     },
     "metadata": {},
     "output_type": "display_data"
    }
   ],
   "source": [
    "sns.boxplot(lst_marks)"
   ]
  },
  {
   "cell_type": "code",
   "execution_count": 20,
   "id": "504dd1fd-fd49-42c5-bdc4-5d3e10105d45",
   "metadata": {},
   "outputs": [],
   "source": [
    "lst_marks = [45,32,56,75,89,54,32,89,90,87,67,54,45,150,-20,160,-50]\n"
   ]
  },
  {
   "cell_type": "code",
   "execution_count": 21,
   "id": "9b737717-9791-4840-90e0-37606285ba85",
   "metadata": {},
   "outputs": [
    {
     "data": {
      "text/plain": [
       "<Axes: >"
      ]
     },
     "execution_count": 21,
     "metadata": {},
     "output_type": "execute_result"
    },
    {
     "data": {
      "image/png": "[encoded data removed]",
      "text/plain": [
       "<Figure size 640x480 with 1 Axes>"
      ]
     },
     "metadata": {},
     "output_type": "display_data"
    }
   ],
   "source": [
    "sns.boxplot(lst_marks)"
   ]
  },
  {
   "cell_type": "code",
   "execution_count": null,
   "id": "7c80bd73-553a-4316-93a1-05709dd9ec2e",
   "metadata": {},
   "outputs": [],
   "source": []
  }
 ],
 "metadata": {
  "kernelspec": {
   "display_name": "Python 3 (ipykernel)",
   "language": "python",
   "name": "python3"
  },
  "language_info": {
   "codemirror_mode": {
    "name": "ipython",
    "version": 3
   },
   "file_extension": ".py",
   "mimetype": "text/x-python",
   "name": "python",
   "nbconvert_exporter": "python",
   "pygments_lexer": "ipython3",
   "version": "3.12.7"
  }
 },
 "nbformat": 4,
 "nbformat_minor": 5
}
